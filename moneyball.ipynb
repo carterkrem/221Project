{
 "cells": [
  {
   "cell_type": "code",
   "execution_count": 293,
   "metadata": {
    "collapsed": true
   },
   "outputs": [],
   "source": [
    "# Setup\n",
    "# -*- coding: utf-8 -*-\n",
    "import numpy as np\n",
    "import scipy as sp\n",
    "import pandas as p\n",
    "from IPython.display import display\n",
    "from sklearn import datasets, linear_model, preprocessing\n",
    "from sklearn.metrics import mean_squared_error, r2_score"
   ]
  },
  {
   "cell_type": "code",
   "execution_count": 306,
   "metadata": {
    "collapsed": false,
    "scrolled": true
   },
   "outputs": [],
   "source": [
    "# STORE ALL REFORMATTED BATTING DATA AND PITHING DATA W/ SALARIES IN CSV\n",
    "\n",
    "years = ['2002', '2003', '2004', '2005', '2006', \n",
    "         '2007', '2008', '2009', '2010', '2011', \n",
    "         '2012', '2013', '2014', '2015', '2016', '2017']\n",
    "\n",
    "teams = ['ARI','ATL','BAL','BOS','CHC','CHW','CIN','CLE','COL','DET','HOU','KCR','LAA','LAD','MIA','MIL','MIN','NYM','NYY','OAK','PHI','PIT','SDP','SEA','SFG','STL','TBR','TEX','TOR','WSN']\n",
    "\n",
    "luxury_tax_mult = [1.7, 1.66, 1.62, 1.52, 1.43, \n",
    "                   1.32,1.26, 1.2, 1.15, 1.1, \n",
    "                   1.1, 1.1, 1.03,1.03, 1.03, 1]\n",
    "\n",
    "batting_train = p.DataFrame()\n",
    "pitching_train = p.DataFrame() \n",
    "batting_test = p.DataFrame()\n",
    "pitching_test = p.DataFrame()\n",
    "\n",
    "for idx, year in enumerate(years):\n",
    "    # Batting salary data for a year -->\n",
    "    batting_df = p.read_csv('BattingSalary'+year+'.csv', \n",
    "                             engine='python')\n",
    "    pitching_df = p.read_csv('PitchingSalary'+year+'.csv', \n",
    "                             engine='python') \n",
    "    \n",
    "    batting_df['Tm'] = batting_df['Tm'].str.replace('ANA', 'LAA')\n",
    "    batting_df['Tm'] = batting_df['Tm'].str.replace('MON', 'WSN')\n",
    "    batting_df['Tm'] = batting_df['Tm'].str.replace('TBD', 'TBR')\n",
    "    batting_df['Tm'] = batting_df['Tm'].str.replace('FLA', 'MIA')\n",
    "\n",
    "    pitching_df['Tm'] = pitching_df['Tm'].str.replace('ANA', 'LAA')\n",
    "    pitching_df['Tm'] = pitching_df['Tm'].str.replace('MON', 'WSN')\n",
    "    pitching_df['Tm'] = pitching_df['Tm'].str.replace('TBD', 'TBR')\n",
    "    pitching_df['Tm'] = pitching_df['Tm'].str.replace('FLA', 'MIA')    \n",
    "    \n",
    "    batting_df.columns = batting_df.columns.str.replace('Salary▼', 'Salary')\n",
    "    pitching_df.columns = pitching_df.columns.str.replace('Salary▼', 'Salary')\n",
    "    \n",
    "    batting_df['Salary'] = batting_df['Salary'].str.replace('$','')\n",
    "    pitching_df['Salary'] = pitching_df['Salary'].str.replace('$','')\n",
    " \n",
    "    batting_df['Salary'] = batting_df['Salary'].astype(float)\n",
    "    pitching_df['Salary'] = pitching_df['Salary'].astype(float)\n",
    "    \n",
    "    lux = luxury_tax_mult[idx]\n",
    "    batting_df['Salary'] *= lux\n",
    "    pitching_df['Salary'] *= lux\n",
    "    \n",
    "    if year == years[0]:\n",
    "        batting_train = batting_df\n",
    "        pitching_train = pitching_df\n",
    "    elif year == years[-1]:\n",
    "        batting_test = batting_df\n",
    "        pitching_test = pitching_df\n",
    "    else:\n",
    "        batting_train = p.concat([batting_train, batting_df])\n",
    "        pitching_train = p.concat([pitching_train, pitching_df])\n",
    "\n",
    "    batting_df.to_csv('BattingStats'+year+'.csv', index=False)\n",
    "    pitching_df.to_csv('PitchingStats'+year+'.csv', index=False)\n",
    "        \n",
    "\n",
    "batting_train.drop(batting_train.columns[[0, 1, -2]], axis=1, inplace=True)\n",
    "batting_train = batting_train.fillna(0)\n",
    "batting_test.drop(batting_test.columns[[0, 1, -2]], axis=1, inplace=True)\n",
    "batting_test = batting_test.fillna(0)\n",
    "\n",
    "pitching_train.drop(pitching_train.columns[[0,1,-1]], axis=1, inplace=True)\n",
    "pitching_train = pitching_train.fillna(0)\n",
    "pitching_test.drop(pitching_test.columns[[0,1,-1]], axis=1, inplace=True)\n",
    "pitching_test = pitching_test.fillna(0)\n",
    "\n",
    "batting_train.to_csv('AllBattingData.csv', index=False)\n",
    "batting_test.to_csv('BattingTest.csv', index=False)\n",
    "\n",
    "pitching_train.to_csv('AllPitchingData.csv', index=False)\n",
    "pitching_test.to_csv('PitchingTest.csv', index=False)\n",
    "\n",
    "# Now remove team for the training data\n",
    "batting_train.drop(batting_train.columns[[1]], axis=1, inplace=True)\n",
    "batting_test.drop(batting_test.columns[[1]], axis=1, inplace=True)\n",
    "\n",
    "pitching_train.drop(pitching_train.columns[[1]], axis=1, inplace=True)\n",
    "pitching_test.drop(pitching_test.columns[[1]], axis=1, inplace=True)\n"
   ]
  },
  {
   "cell_type": "code",
   "execution_count": 307,
   "metadata": {
    "collapsed": false
   },
   "outputs": [],
   "source": [
    "# FORMAT TRAINING DATA FOR BATTING AND PITCHING\n",
    "batting_train_y = batting_train[['Salary']]\n",
    "batting_train_x = batting_train.drop(['Salary'], axis=1)\n",
    "batting_train_x = batting_train_x.drop(['Pos Summary'], axis=1)\n",
    "\n",
    "pitching_train_y = pitching_train[['Salary']]\n",
    "pitching_train_x = pitching_train.drop(['Salary'], axis=1) \n",
    "\n",
    "# FORMAT TESTING DATA FOR BATTING AND PITCHING\n",
    "batting_test_y = batting_test[['Salary']]\n",
    "batting_test_x = batting_test.drop(['Salary'], axis=1)\n",
    "batting_test_x = batting_test_x.drop(['Pos Summary'], axis=1)\n",
    "\n",
    "pitching_test_y = pitching_test[['Salary']]\n",
    "pitching_test_x = pitching_test.drop(['Salary'], axis=1) "
   ]
  },
  {
   "cell_type": "code",
   "execution_count": 308,
   "metadata": {
    "collapsed": false
   },
   "outputs": [
    {
     "name": "stdout",
     "output_type": "stream",
     "text": [
      "[[  5.01575479e+05  -3.14817084e+04   2.32672328e+03  -6.78893802e+04\n",
      "   -1.27950676e+05  -4.01916135e+05   2.58492211e+05   3.32286666e+05\n",
      "    4.39021951e+03  -3.71932228e+05  -4.51857203e+03   7.77971096e+03\n",
      "    3.48110457e+06   1.90999031e+07  -1.24224317e+08  -3.05492121e+06\n",
      "   -5.44114494e+06   2.17654606e+05]]\n",
      "[[  4.93022796e+05   3.41048708e+04  -2.82310191e+04  -1.08359015e+05\n",
      "   -1.84470501e+04   1.27855710e+04  -1.42158231e+05  -2.60738937e+05\n",
      "    5.66345547e+06   5.49548846e+03  -2.47686746e+05  -2.93756548e+05\n",
      "    1.97579936e+06   1.52169166e+05   1.38297749e+06   8.32809213e+05\n",
      "    4.82804644e+03   4.40810966e+06  -1.23872588e+06]]\n"
     ]
    }
   ],
   "source": [
    "# PREDICT SALARIES BASED OFF OF STATISTICS\n",
    "batting_regr = linear_model.LinearRegression()\n",
    "batting_regr.fit(batting_train_x.values, batting_train_y.values)\n",
    "print batting_regr.coef_\n",
    "\n",
    "pitching_regr = linear_model.LinearRegression()\n",
    "pitching_regr.fit(pitching_train_x.values, pitching_train_y.values)\n",
    "print pitching_regr.coef_"
   ]
  },
  {
   "cell_type": "code",
   "execution_count": 336,
   "metadata": {
    "collapsed": false
   },
   "outputs": [
    {
     "ename": "TypeError",
     "evalue": "cannot concatenate 'str' and 'list' objects",
     "output_type": "error",
     "traceback": [
      "\u001b[0;31m---------------------------------------------------------------------------\u001b[0m",
      "\u001b[0;31mTypeError\u001b[0m                                 Traceback (most recent call last)",
      "\u001b[0;32m<ipython-input-336-2f97f7ffe308>\u001b[0m in \u001b[0;36m<module>\u001b[0;34m()\u001b[0m\n\u001b[1;32m      2\u001b[0m \u001b[0;34m\u001b[0m\u001b[0m\n\u001b[1;32m      3\u001b[0m \u001b[0;32mfor\u001b[0m \u001b[0myear\u001b[0m \u001b[0;32min\u001b[0m \u001b[0myears\u001b[0m\u001b[0;34m:\u001b[0m\u001b[0;34m\u001b[0m\u001b[0m\n\u001b[0;32m----> 4\u001b[0;31m     \u001b[0myear_batting_df\u001b[0m \u001b[0;34m=\u001b[0m \u001b[0mp\u001b[0m\u001b[0;34m.\u001b[0m\u001b[0mread_csv\u001b[0m\u001b[0;34m(\u001b[0m\u001b[0;34m'BattingStats'\u001b[0m\u001b[0;34m+\u001b[0m\u001b[0myear\u001b[0m\u001b[0;34m+\u001b[0m\u001b[0;34m'.csv'\u001b[0m\u001b[0;34m,\u001b[0m \u001b[0mengine\u001b[0m\u001b[0;34m=\u001b[0m\u001b[0;34m'python'\u001b[0m\u001b[0;34m)\u001b[0m\u001b[0;34m\u001b[0m\u001b[0m\n\u001b[0m\u001b[1;32m      5\u001b[0m     \u001b[0myear_pitching_df\u001b[0m \u001b[0;34m=\u001b[0m \u001b[0mp\u001b[0m\u001b[0;34m.\u001b[0m\u001b[0mread_csv\u001b[0m\u001b[0;34m(\u001b[0m\u001b[0;34m'PitchingStats'\u001b[0m\u001b[0;34m+\u001b[0m\u001b[0myear\u001b[0m\u001b[0;34m+\u001b[0m\u001b[0;34m'.csv'\u001b[0m\u001b[0;34m,\u001b[0m \u001b[0mengine\u001b[0m\u001b[0;34m=\u001b[0m\u001b[0;34m'python'\u001b[0m\u001b[0;34m)\u001b[0m\u001b[0;34m\u001b[0m\u001b[0m\n\u001b[1;32m      6\u001b[0m     \u001b[0myear_batting_df\u001b[0m\u001b[0;34m.\u001b[0m\u001b[0mdrop\u001b[0m\u001b[0;34m(\u001b[0m\u001b[0myear_batting_df\u001b[0m\u001b[0;34m.\u001b[0m\u001b[0mcolumns\u001b[0m\u001b[0;34m[\u001b[0m\u001b[0;34m[\u001b[0m\u001b[0;36m0\u001b[0m\u001b[0;34m,\u001b[0m \u001b[0;36m1\u001b[0m\u001b[0;34m,\u001b[0m \u001b[0;34m-\u001b[0m\u001b[0;36m2\u001b[0m\u001b[0;34m]\u001b[0m\u001b[0;34m]\u001b[0m\u001b[0;34m,\u001b[0m \u001b[0maxis\u001b[0m\u001b[0;34m=\u001b[0m\u001b[0;36m1\u001b[0m\u001b[0;34m,\u001b[0m \u001b[0minplace\u001b[0m\u001b[0;34m=\u001b[0m\u001b[0mTrue\u001b[0m\u001b[0;34m)\u001b[0m\u001b[0;34m\u001b[0m\u001b[0m\n",
      "\u001b[0;31mTypeError\u001b[0m: cannot concatenate 'str' and 'list' objects"
     ]
    }
   ],
   "source": [
    "full_twenty = np.zeros((1, 15))\n",
    "\n",
    "for year in years: \n",
    "    year_batting_df = p.read_csv('BattingStats'+year+'.csv', engine='python')\n",
    "    year_pitching_df = p.read_csv('PitchingStats'+year+'.csv', engine='python')\n",
    "    year_batting_df.drop(year_batting_df.columns[[0, 1, -2]], axis=1, inplace=True)\n",
    "    year_batting_df = year_batting_df.fillna(0)\n",
    "    year_pitching_df.drop(year_pitching_df.columns[[0,1,-1]], axis=1, inplace=True)\n",
    "    year_pitching_df = year_pitching_df.fillna(0)\n",
    "\n",
    "    if year == '2017':\n",
    "        test_success_x = np.zeros((1, 16))\n",
    "    \n",
    "    for team in teams:\n",
    "        print(team, year)\n",
    "        teamB = year_batting_df[(year_batting_df['Tm'].str.startswith(team))]\n",
    "        teamB = teamB.sort_values(by='WAR', ascending=0)\n",
    "        teamB = teamB.head(n=10)\n",
    "        teamB.drop(teamB.columns[[1,-2, -1]], axis=1, inplace=True)\n",
    "        B_predicted = batting_regr.predict(teamB.values)   \n",
    "        B_predicted = p.DataFrame(B_predicted) \n",
    "    \n",
    "        teamP = year_pitching_df[(year_pitching_df['Tm'].str.startswith(team))]\n",
    "        teamP = teamP.sort_values(by='G', ascending=0)\n",
    "        teamP = teamP.head(n=6)\n",
    "        teamP.drop(teamP.columns[[1, -1]], axis=1, inplace=True)\n",
    "        P_predicted = pitching_regr.predict(teamP.values)\n",
    "        P_predicted = p.DataFrame(P_predicted)\n",
    "         \n",
    "        B_predicted = p.concat([B_predicted, P_predicted])\n",
    "        team_Twenty_Predicted = B_predicted.T\n",
    "        to_append = team_Twenty_Predicted.values\n",
    "        \n",
    "        if year == '2017':\n",
    "            test_success_x = np.vstack([test_success_x, to_append])             \n",
    "        else:\n",
    "            full_twenty = np.vstack([full_twenty, to_append]) \n",
    "full_twenty = full_twenty[1:]\n",
    "test_success_x = test_success_x[1:]"
   ]
  },
  {
   "cell_type": "code",
   "execution_count": 334,
   "metadata": {
    "collapsed": false
   },
   "outputs": [
    {
     "name": "stdout",
     "output_type": "stream",
     "text": [
      "[69, 68, 89, 93, 103, 78, 68, 94, 75, 86, 84, 81, 74, 91, 79, 73, 59, 87, 84, 69, 71, 78, 68, 87, 86, 86, 68, 95, 89, 95, 79, 67, 81, 78, 97, 76, 64, 81, 68, 74, 86, 95, 85, 92, 71, 68, 83, 90, 87, 68, 63, 98, 74, 84, 76, 100, 80, 88, 93, 83, 64, 79, 96, 71, 73, 73, 76, 85, 66, 90, 70, 89, 98, 94, 77, 82, 70, 79, 84, 88, 73, 88, 77, 88, 87, 90, 77, 67, 83, 96, 81, 96, 85, 97, 66, 63, 90, 92, 74, 93, 51, 86, 78, 92, 62, 74, 66, 74, 85, 96, 73, 94, 76, 76, 71, 97, 92, 91, 74, 86, 81, 94, 93, 69, 61, 85, 97, 68, 64, 88, 55, 72, 89, 86, 69, 83, 66, 74, 95, 94, 81, 79, 76, 94, 75, 88, 90, 93, 73, 98, 94, 89, 69, 90, 71, 79, 79, 80, 73, 95, 56, 71, 86, 82, 72, 96, 63, 77, 97, 74, 102, 72, 71, 86, 67, 90, 91, 96, 81, 80, 65, 91, 66, 89, 75, 88, 91, 69, 83, 81, 76, 67, 80, 80, 80, 77, 94, 79, 95, 81, 97, 57, 90, 92, 61, 86, 96, 90, 85, 69, 70, 86, 64, 95, 83, 79, 78, 65, 92, 86, 74, 65, 97, 95, 87, 80, 87, 70, 103, 75, 93, 62, 75, 88, 85, 91, 84, 87, 75, 59, 82, 72, 68, 95, 97, 89, 74, 81, 74, 74, 86, 75, 100, 84, 84, 90, 88, 89, 89, 75, 92, 67, 63, 72, 61, 86, 97, 79, 86, 59, 90, 84, 69, 96, 85, 72, 72, 96, 90, 88, 73, 69, 94, 82, 71, 83, 79, 88, 94, 76, 89, 68, 89, 71, 88, 78, 66, 75, 83, 73, 76, 79, 70, 86, 66, 90, 80, 78, 76, 95, 82, 62, 89, 88, 78, 75, 96, 97, 97, 93, 85, 67, 88, 76, 78, 83, 61, 80, 87, 71, 77, 90, 74, 95, 79, 99, 73, 93, 67, 71, 89, 56, 95, 71, 83, 81, 83, 83, 95, 88, 88, 67, 82, 75, 69, 100, 67, 79, 80, 81, 51, 96, 78, 98, 89, 83, 76, 80, 68, 72, 92, 58, 92, 93, 83, 67, 92, 71, 101, 91, 86, 72, 87, 91, 63, 105, 70, 89, 67, 67, 84, 101, 71, 95, 88, 86, 69, 68, 74, 43, 87, 83, 77, 85, 91, 68, 90, 66, 101, 96, 86, 75, 64, 100, 93, 85, 63, 71, 86, 83, 98, 101, 67, 93, 67, 81, 78, 74, 73, 55, 84, 62, 99, 92, 79, 56, 94, 75, 103, 103, 80, 72, 66, 95, 93, 97, 55, 72, 78, 83]\n"
     ]
    }
   ],
   "source": [
    "teamWins = p.read_csv('teamWins.csv')\n",
    "teamWins.drop(teamWins.columns[0], axis=1, inplace=True)\n",
    "years = teamWins.values.tolist()\n",
    "success_y_orig = [item for sublist in years for item in sublist]\n",
    "success_y = success_y_orig[30:]\n",
    "print(success_y)"
   ]
  },
  {
   "cell_type": "code",
   "execution_count": 335,
   "metadata": {
    "collapsed": false
   },
   "outputs": [
    {
     "name": "stdout",
     "output_type": "stream",
     "text": [
      "[  2.75407175e-07  -1.04452242e-07   1.93624398e-07   7.17763126e-07\n",
      "   3.06021444e-07   1.20746708e-07   7.33584216e-08   2.40036921e-08\n",
      "  -1.06792625e-07  -6.09257581e-08   2.93120180e-07  -3.47337839e-07\n",
      "   7.59771595e-08  -1.04645504e-07   2.92632049e-08]\n",
      "30\n",
      "30\n"
     ]
    },
    {
     "data": {
      "text/html": [
       "<div>\n",
       "<table border=\"1\" class=\"dataframe\">\n",
       "  <thead>\n",
       "    <tr style=\"text-align: right;\">\n",
       "      <th></th>\n",
       "      <th>0</th>\n",
       "      <th>1</th>\n",
       "      <th>2</th>\n",
       "      <th>3</th>\n",
       "      <th>4</th>\n",
       "      <th>5</th>\n",
       "      <th>6</th>\n",
       "      <th>7</th>\n",
       "      <th>8</th>\n",
       "      <th>9</th>\n",
       "      <th>...</th>\n",
       "      <th>20</th>\n",
       "      <th>21</th>\n",
       "      <th>22</th>\n",
       "      <th>23</th>\n",
       "      <th>24</th>\n",
       "      <th>25</th>\n",
       "      <th>26</th>\n",
       "      <th>27</th>\n",
       "      <th>28</th>\n",
       "      <th>29</th>\n",
       "    </tr>\n",
       "  </thead>\n",
       "  <tbody>\n",
       "    <tr>\n",
       "      <th>0</th>\n",
       "      <td>93.000000</td>\n",
       "      <td>72.000000</td>\n",
       "      <td>75.000000</td>\n",
       "      <td>93.000000</td>\n",
       "      <td>92.000000</td>\n",
       "      <td>67.000000</td>\n",
       "      <td>68.000000</td>\n",
       "      <td>102.000000</td>\n",
       "      <td>87.000000</td>\n",
       "      <td>64.000000</td>\n",
       "      <td>...</td>\n",
       "      <td>66.000000</td>\n",
       "      <td>75.000000</td>\n",
       "      <td>71.000000</td>\n",
       "      <td>64.000000</td>\n",
       "      <td>78.000000</td>\n",
       "      <td>83.000000</td>\n",
       "      <td>80.000000</td>\n",
       "      <td>78.000000</td>\n",
       "      <td>76.000000</td>\n",
       "      <td>97.00000</td>\n",
       "    </tr>\n",
       "    <tr>\n",
       "      <th>1</th>\n",
       "      <td>79.324281</td>\n",
       "      <td>82.794651</td>\n",
       "      <td>80.121291</td>\n",
       "      <td>77.095299</td>\n",
       "      <td>73.786841</td>\n",
       "      <td>75.615988</td>\n",
       "      <td>79.237007</td>\n",
       "      <td>86.968063</td>\n",
       "      <td>79.094717</td>\n",
       "      <td>79.868357</td>\n",
       "      <td>...</td>\n",
       "      <td>79.587518</td>\n",
       "      <td>78.100546</td>\n",
       "      <td>75.323501</td>\n",
       "      <td>82.164653</td>\n",
       "      <td>79.275897</td>\n",
       "      <td>78.677533</td>\n",
       "      <td>81.783138</td>\n",
       "      <td>79.653466</td>\n",
       "      <td>81.203338</td>\n",
       "      <td>85.19942</td>\n",
       "    </tr>\n",
       "  </tbody>\n",
       "</table>\n",
       "<p>2 rows × 30 columns</p>\n",
       "</div>"
      ],
      "text/plain": [
       "          0          1          2          3          4          5   \\\n",
       "0  93.000000  72.000000  75.000000  93.000000  92.000000  67.000000   \n",
       "1  79.324281  82.794651  80.121291  77.095299  73.786841  75.615988   \n",
       "\n",
       "          6           7          8          9     ...            20  \\\n",
       "0  68.000000  102.000000  87.000000  64.000000    ...     66.000000   \n",
       "1  79.237007   86.968063  79.094717  79.868357    ...     79.587518   \n",
       "\n",
       "          21         22         23         24         25         26  \\\n",
       "0  75.000000  71.000000  64.000000  78.000000  83.000000  80.000000   \n",
       "1  78.100546  75.323501  82.164653  79.275897  78.677533  81.783138   \n",
       "\n",
       "          27         28        29  \n",
       "0  78.000000  76.000000  97.00000  \n",
       "1  79.653466  81.203338  85.19942  \n",
       "\n",
       "[2 rows x 30 columns]"
      ]
     },
     "metadata": {},
     "output_type": "display_data"
    },
    {
     "name": "stdout",
     "output_type": "stream",
     "text": [
      "[[  93.           72.           75.           93.           92.           67.\n",
      "    68.          102.           87.           64.          101.           80.\n",
      "    80.          104.           77.           86.           85.           70.\n",
      "    91.           75.           66.           75.           71.           64.\n",
      "    78.           83.           80.           78.           76.           97.        ]\n",
      " [  79.32428051   82.79465062   80.12129068   77.09529874   73.78684061\n",
      "    75.61598764   79.23700742   86.96806272   79.09471714   79.86835696\n",
      "    85.62821421   76.28872371   77.75502497   78.78117782   78.21496958\n",
      "    79.71685577   76.92121889   79.57624254   81.45891085   79.4862336\n",
      "    79.58751815   78.1005461    75.32350059   82.16465296   79.27589693\n",
      "    78.67753299   81.78313788   79.65346599   81.20333827   85.19942012]]\n"
     ]
    }
   ],
   "source": [
    "# PREDICT WINS\n",
    "wins_regr = linear_model.LinearRegression()\n",
    "success_y = np.asarray(success_y)\n",
    "wins_regr.fit(full_twenty, success_y)\n",
    "print wins_regr.coef_\n",
    "\n",
    "test_success_y = np.asarray(success_y_orig[:30])\n",
    "\n",
    "actual = test_success_y.T\n",
    "predicted = wins_regr.predict(test_success_x).T\n",
    "\n",
    "print(len(actual))\n",
    "print(len(predicted))\n",
    "\n",
    "sidebyside = np.vstack((actual, predicted))\n",
    "\n",
    "display(p.DataFrame(sidebyside))\n",
    "print sidebyside\n",
    "\n"
   ]
  },
  {
   "cell_type": "code",
   "execution_count": null,
   "metadata": {
    "collapsed": true
   },
   "outputs": [],
   "source": []
  },
  {
   "cell_type": "code",
   "execution_count": null,
   "metadata": {
    "collapsed": true
   },
   "outputs": [],
   "source": []
  }
 ],
 "metadata": {
  "anaconda-cloud": {},
  "kernelspec": {
   "display_name": "Python [conda root]",
   "language": "python",
   "name": "conda-root-py"
  },
  "language_info": {
   "codemirror_mode": {
    "name": "ipython",
    "version": 2
   },
   "file_extension": ".py",
   "mimetype": "text/x-python",
   "name": "python",
   "nbconvert_exporter": "python",
   "pygments_lexer": "ipython2",
   "version": "2.7.12"
  }
 },
 "nbformat": 4,
 "nbformat_minor": 1
}
