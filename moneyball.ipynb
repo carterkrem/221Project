{
 "cells": [
  {
   "cell_type": "code",
   "execution_count": 1,
   "metadata": {
    "collapsed": true
   },
   "outputs": [],
   "source": [
    "# Setup\n",
    "# -*- coding: utf-8 -*-\n",
    "import numpy as np\n",
    "import scipy as sp\n",
    "import pandas as p\n",
    "from IPython.display import display\n",
    "from sklearn import datasets, linear_model, preprocessing\n",
    "from sklearn.metrics import mean_squared_error, r2_score"
   ]
  },
  {
   "cell_type": "code",
   "execution_count": 2,
   "metadata": {
    "collapsed": false,
    "scrolled": true
   },
   "outputs": [],
   "source": [
    "# STORE ALL REFORMATTED BATTING DATA AND PITHING DATA W/ SALARIES IN CSV\n",
    "\n",
    "years = ['2002', '2003', '2004', '2005', '2006', \n",
    "         '2007', '2008', '2009', '2010', '2011', \n",
    "         '2012', '2013', '2014', '2015', '2016', '2017']\n",
    "\n",
    "teams = ['ARI','ATL','BAL','BOS','CHC','CHW','CIN','CLE','COL','DET','HOU','KCR','LAA','LAD','MIA','MIL','MIN','NYM','NYY','OAK','PHI','PIT','SDP','SEA','SFG','STL','TBR','TEX','TOR','WSN']\n",
    "\n",
    "luxury_tax_mult = [1.7, 1.66, 1.62, 1.52, 1.43, \n",
    "                   1.32,1.26, 1.2, 1.15, 1.1, \n",
    "                   1.1, 1.1, 1.03,1.03, 1.03, 1]\n",
    "\n",
    "batting_train = p.DataFrame()\n",
    "pitching_train = p.DataFrame() \n",
    "batting_test = p.DataFrame()\n",
    "pitching_test = p.DataFrame()\n",
    "\n",
    "for idx, year in enumerate(years):\n",
    "    # Batting salary data for a year -->\n",
    "    batting_df = p.read_csv('BattingSalary'+year+'.csv', \n",
    "                             engine='python')\n",
    "    pitching_df = p.read_csv('PitchingSalary'+year+'.csv', \n",
    "                             engine='python') \n",
    "    \n",
    "    batting_df['Tm'] = batting_df['Tm'].str.replace('ANA', 'LAA')\n",
    "    batting_df['Tm'] = batting_df['Tm'].str.replace('MON', 'WSN')\n",
    "    batting_df['Tm'] = batting_df['Tm'].str.replace('TBD', 'TBR')\n",
    "    batting_df['Tm'] = batting_df['Tm'].str.replace('FLA', 'MIA')\n",
    "\n",
    "    pitching_df['Tm'] = pitching_df['Tm'].str.replace('ANA', 'LAA')\n",
    "    pitching_df['Tm'] = pitching_df['Tm'].str.replace('MON', 'WSN')\n",
    "    pitching_df['Tm'] = pitching_df['Tm'].str.replace('TBD', 'TBR')\n",
    "    pitching_df['Tm'] = pitching_df['Tm'].str.replace('FLA', 'MIA')    \n",
    "    \n",
    "    batting_df.columns = batting_df.columns.str.replace('Salary▼', 'Salary')\n",
    "    pitching_df.columns = pitching_df.columns.str.replace('Salary▼', 'Salary')\n",
    "    \n",
    "    batting_df['Salary'] = batting_df['Salary'].str.replace('$','')\n",
    "    pitching_df['Salary'] = pitching_df['Salary'].str.replace('$','')\n",
    " \n",
    "    batting_df['Salary'] = batting_df['Salary'].astype(float)\n",
    "    pitching_df['Salary'] = pitching_df['Salary'].astype(float)\n",
    "    \n",
    "    lux = luxury_tax_mult[idx]\n",
    "    batting_df['Salary'] *= lux\n",
    "    pitching_df['Salary'] *= lux\n",
    "    \n",
    "    if year == years[0]:\n",
    "        batting_train = batting_df\n",
    "        pitching_train = pitching_df\n",
    "    elif year == years[-1]:\n",
    "        batting_test = batting_df\n",
    "        pitching_test = pitching_df\n",
    "    else:\n",
    "        batting_train = p.concat([batting_train, batting_df])\n",
    "        pitching_train = p.concat([pitching_train, pitching_df])\n",
    "\n",
    "    batting_df.to_csv('BattingStats'+year+'.csv', index=False)\n",
    "    pitching_df.to_csv('PitchingStats'+year+'.csv', index=False)\n",
    "        \n",
    "\n",
    "batting_train.drop(batting_train.columns[[0, 1, -2]], axis=1, inplace=True)\n",
    "batting_train = batting_train.fillna(0)\n",
    "batting_test.drop(batting_test.columns[[0, 1, -2]], axis=1, inplace=True)\n",
    "batting_test = batting_test.fillna(0)\n",
    "\n",
    "pitching_train.drop(pitching_train.columns[[0,1,-1]], axis=1, inplace=True)\n",
    "pitching_train = pitching_train.fillna(0)\n",
    "pitching_test.drop(pitching_test.columns[[0,1,-1]], axis=1, inplace=True)\n",
    "pitching_test = pitching_test.fillna(0)\n",
    "\n",
    "batting_train.to_csv('AllBattingData.csv', index=False)\n",
    "batting_test.to_csv('BattingTest.csv', index=False)\n",
    "\n",
    "pitching_train.to_csv('AllPitchingData.csv', index=False)\n",
    "pitching_test.to_csv('PitchingTest.csv', index=False)\n",
    "\n",
    "# Now remove team for the training data\n",
    "batting_train.drop(batting_train.columns[[1]], axis=1, inplace=True)\n",
    "batting_test.drop(batting_test.columns[[1]], axis=1, inplace=True)\n",
    "\n",
    "pitching_train.drop(pitching_train.columns[[1]], axis=1, inplace=True)\n",
    "pitching_test.drop(pitching_test.columns[[1]], axis=1, inplace=True)\n"
   ]
  },
  {
   "cell_type": "code",
   "execution_count": 3,
   "metadata": {
    "collapsed": false
   },
   "outputs": [],
   "source": [
    "# FORMAT TRAINING DATA FOR BATTING AND PITCHING\n",
    "batting_train_y = batting_train[['Salary']]\n",
    "batting_train_x = batting_train.drop(['Salary'], axis=1)\n",
    "batting_train_x = batting_train_x.drop(['Pos Summary'], axis=1)\n",
    "\n",
    "pitching_train_y = pitching_train[['Salary']]\n",
    "pitching_train_x = pitching_train.drop(['Salary'], axis=1) \n",
    "\n",
    "# FORMAT TESTING DATA FOR BATTING AND PITCHING\n",
    "batting_test_y = batting_test[['Salary']]\n",
    "batting_test_x = batting_test.drop(['Salary'], axis=1)\n",
    "batting_test_x = batting_test_x.drop(['Pos Summary'], axis=1)\n",
    "\n",
    "pitching_test_y = pitching_test[['Salary']]\n",
    "pitching_test_x = pitching_test.drop(['Salary'], axis=1) "
   ]
  },
  {
   "cell_type": "code",
   "execution_count": 7,
   "metadata": {
    "collapsed": false
   },
   "outputs": [
    {
     "name": "stdout",
     "output_type": "stream",
     "text": [
      "[[  5.01575479e+05  -3.14817084e+04   2.32672328e+03  -6.78893802e+04\n",
      "   -1.27950676e+05  -4.01916135e+05   2.58492211e+05   3.32286666e+05\n",
      "    4.39021951e+03  -3.71932228e+05  -4.51857203e+03   7.77971096e+03\n",
      "    3.48110457e+06   1.90999031e+07  -1.24224317e+08  -3.05492121e+06\n",
      "   -5.44114494e+06   2.17654606e+05]]\n",
      "[[  4.93022796e+05   3.41048708e+04  -2.82310191e+04  -1.08359015e+05\n",
      "   -1.84470501e+04   1.27855710e+04  -1.42158231e+05  -2.60738937e+05\n",
      "    5.66345547e+06   5.49548846e+03  -2.47686746e+05  -2.93756548e+05\n",
      "    1.97579936e+06   1.52169166e+05   1.38297749e+06   8.32809213e+05\n",
      "    4.82804644e+03   4.40810966e+06  -1.23872588e+06]]\n"
     ]
    }
   ],
   "source": [
    "# PREDICT SALARIES BASED OFF OF STATISTICS\n",
    "batting_regr = linear_model.LinearRegression()\n",
    "batting_regr.fit(batting_train_x.values, batting_train_y.values)\n",
    "print batting_regr.coef_\n",
    "\n",
    "pitching_regr = linear_model.LinearRegression()\n",
    "pitching_regr.fit(pitching_train_x.values, pitching_train_y.values)\n",
    "print pitching_regr.coef_"
   ]
  },
  {
   "cell_type": "code",
   "execution_count": 23,
   "metadata": {
    "collapsed": false
   },
   "outputs": [
    {
     "ename": "TypeError",
     "evalue": "cannot concatenate 'str' and 'list' objects",
     "output_type": "error",
     "traceback": [
      "\u001b[0;31m---------------------------------------------------------------------------\u001b[0m",
      "\u001b[0;31mTypeError\u001b[0m                                 Traceback (most recent call last)",
      "\u001b[0;32m<ipython-input-23-59c41b3dd662>\u001b[0m in \u001b[0;36m<module>\u001b[0;34m()\u001b[0m\n\u001b[1;32m      2\u001b[0m \u001b[0;34m\u001b[0m\u001b[0m\n\u001b[1;32m      3\u001b[0m \u001b[0;32mfor\u001b[0m \u001b[0myear\u001b[0m \u001b[0;32min\u001b[0m \u001b[0myears\u001b[0m\u001b[0;34m:\u001b[0m\u001b[0;34m\u001b[0m\u001b[0m\n\u001b[0;32m----> 4\u001b[0;31m     \u001b[0myear_batting_df\u001b[0m \u001b[0;34m=\u001b[0m \u001b[0mp\u001b[0m\u001b[0;34m.\u001b[0m\u001b[0mread_csv\u001b[0m\u001b[0;34m(\u001b[0m\u001b[0;34m'BattingStats'\u001b[0m\u001b[0;34m+\u001b[0m\u001b[0myear\u001b[0m\u001b[0;34m+\u001b[0m\u001b[0;34m'.csv'\u001b[0m\u001b[0;34m,\u001b[0m \u001b[0mengine\u001b[0m\u001b[0;34m=\u001b[0m\u001b[0;34m'python'\u001b[0m\u001b[0;34m)\u001b[0m\u001b[0;34m\u001b[0m\u001b[0m\n\u001b[0m\u001b[1;32m      5\u001b[0m     \u001b[0myear_pitching_df\u001b[0m \u001b[0;34m=\u001b[0m \u001b[0mp\u001b[0m\u001b[0;34m.\u001b[0m\u001b[0mread_csv\u001b[0m\u001b[0;34m(\u001b[0m\u001b[0;34m'PitchingStats'\u001b[0m\u001b[0;34m+\u001b[0m\u001b[0myear\u001b[0m\u001b[0;34m+\u001b[0m\u001b[0;34m'.csv'\u001b[0m\u001b[0;34m,\u001b[0m \u001b[0mengine\u001b[0m\u001b[0;34m=\u001b[0m\u001b[0;34m'python'\u001b[0m\u001b[0;34m)\u001b[0m\u001b[0;34m\u001b[0m\u001b[0m\n\u001b[1;32m      6\u001b[0m     \u001b[0myear_batting_df\u001b[0m\u001b[0;34m.\u001b[0m\u001b[0mdrop\u001b[0m\u001b[0;34m(\u001b[0m\u001b[0myear_batting_df\u001b[0m\u001b[0;34m.\u001b[0m\u001b[0mcolumns\u001b[0m\u001b[0;34m[\u001b[0m\u001b[0;34m[\u001b[0m\u001b[0;36m0\u001b[0m\u001b[0;34m,\u001b[0m \u001b[0;36m1\u001b[0m\u001b[0;34m,\u001b[0m \u001b[0;34m-\u001b[0m\u001b[0;36m2\u001b[0m\u001b[0;34m]\u001b[0m\u001b[0;34m]\u001b[0m\u001b[0;34m,\u001b[0m \u001b[0maxis\u001b[0m\u001b[0;34m=\u001b[0m\u001b[0;36m1\u001b[0m\u001b[0;34m,\u001b[0m \u001b[0minplace\u001b[0m\u001b[0;34m=\u001b[0m\u001b[0mTrue\u001b[0m\u001b[0;34m)\u001b[0m\u001b[0;34m\u001b[0m\u001b[0m\n",
      "\u001b[0;31mTypeError\u001b[0m: cannot concatenate 'str' and 'list' objects"
     ]
    }
   ],
   "source": [
    "full_twenty = np.zeros((1, 15))\n",
    "\n",
    "for year in years: \n",
    "    year_batting_df = p.read_csv('BattingStats'+year+'.csv', engine='python')\n",
    "    year_pitching_df = p.read_csv('PitchingStats'+year+'.csv', engine='python')\n",
    "    year_batting_df.drop(year_batting_df.columns[[0, 1, -2]], axis=1, inplace=True)\n",
    "    year_batting_df = year_batting_df.fillna(0)\n",
    "    year_pitching_df.drop(year_pitching_df.columns[[0,1,-1]], axis=1, inplace=True)\n",
    "    year_pitching_df = year_pitching_df.fillna(0)\n",
    "\n",
    "    if year == '2017':\n",
    "        test_success_x = np.zeros((1, 15))\n",
    "    \n",
    "    for team in teams:\n",
    "        teamB = year_batting_df[(year_batting_df['Tm'].str.startswith(team))]\n",
    "        teamB = teamB.sort_values(by='WAR', ascending=0)\n",
    "        teamB = teamB.head(n=10)\n",
    "        actual_batting_salaries = teamB['Salary'].values\n",
    "        teamB.drop(teamB.columns[[1,-2, -1]], axis=1, inplace=True)\n",
    "        B_predicted = batting_regr.predict(teamB.values) \n",
    "        differences = np.ndarray.flatten(B_predicted) - actual_batting_salaries\n",
    "        B_predicted = p.DataFrame(B_predicted)\n",
    "    \n",
    "        teamP = year_pitching_df[(year_pitching_df['Tm'].str.startswith(team))]\n",
    "        teamP = teamP.sort_values(by='G', ascending=0)\n",
    "        teamP = teamP.head(n=5)\n",
    "        actual_pitching_salaries = teamP['Salary'].values\n",
    "        teamP.drop(teamP.columns[[1, -1]], axis=1, inplace=True)\n",
    "        P_predicted = pitching_regr.predict(teamP.values)\n",
    "        differences = np.ndarray.flatten(P_predicted) - actual_pitching_salaries\n",
    "        P_predicted = p.DataFrame(P_predicted)\n",
    "         \n",
    "        B_predicted = p.concat([B_predicted, P_predicted])\n",
    "        team_Twenty_Predicted = B_predicted.T\n",
    "        to_append = team_Twenty_Predicted.values\n",
    "        \n",
    "        if year == '2017':\n",
    "            test_success_x = np.vstack([test_success_x, to_append])             \n",
    "        else:\n",
    "            full_twenty = np.vstack([full_twenty, to_append]) \n",
    "full_twenty = full_twenty[1:]\n",
    "test_success_x = test_success_x[1:]"
   ]
  },
  {
   "cell_type": "code",
   "execution_count": 20,
   "metadata": {
    "collapsed": false
   },
   "outputs": [],
   "source": [
    "teamWins = p.read_csv('teamWins.csv')\n",
    "teamWins.drop(teamWins.columns[0], axis=1, inplace=True)\n",
    "years = teamWins.values.tolist()\n",
    "success_y_orig = [item for sublist in years for item in sublist]\n",
    "success_y = success_y_orig[30:]"
   ]
  },
  {
   "cell_type": "code",
   "execution_count": 22,
   "metadata": {
    "collapsed": false
   },
   "outputs": [
    {
     "name": "stdout",
     "output_type": "stream",
     "text": [
      "[ -1.78323719e-07  -8.80022483e-08   1.28102441e-07   3.25490132e-08\n",
      "  -1.70816472e-07  -1.41081973e-07  -2.30835536e-07  -7.58416322e-08\n",
      "   5.41419458e-08  -4.63323256e-08   1.05921249e-07  -1.08583256e-07\n",
      "  -8.36185430e-08  -1.19189038e-07  -3.28529895e-07]\n"
     ]
    },
    {
     "data": {
      "text/html": [
       "<div>\n",
       "<table border=\"1\" class=\"dataframe\">\n",
       "  <thead>\n",
       "    <tr style=\"text-align: right;\">\n",
       "      <th></th>\n",
       "      <th>0</th>\n",
       "      <th>1</th>\n",
       "      <th>2</th>\n",
       "      <th>3</th>\n",
       "      <th>4</th>\n",
       "      <th>5</th>\n",
       "      <th>6</th>\n",
       "      <th>7</th>\n",
       "      <th>8</th>\n",
       "      <th>9</th>\n",
       "      <th>...</th>\n",
       "      <th>20</th>\n",
       "      <th>21</th>\n",
       "      <th>22</th>\n",
       "      <th>23</th>\n",
       "      <th>24</th>\n",
       "      <th>25</th>\n",
       "      <th>26</th>\n",
       "      <th>27</th>\n",
       "      <th>28</th>\n",
       "      <th>29</th>\n",
       "    </tr>\n",
       "  </thead>\n",
       "  <tbody>\n",
       "    <tr>\n",
       "      <th>0</th>\n",
       "      <td>93.000000</td>\n",
       "      <td>72.000000</td>\n",
       "      <td>75.000000</td>\n",
       "      <td>93.000000</td>\n",
       "      <td>92.000000</td>\n",
       "      <td>67.000000</td>\n",
       "      <td>68.00000</td>\n",
       "      <td>102.000000</td>\n",
       "      <td>87.000000</td>\n",
       "      <td>64.000000</td>\n",
       "      <td>...</td>\n",
       "      <td>66.000000</td>\n",
       "      <td>75.000000</td>\n",
       "      <td>71.000000</td>\n",
       "      <td>64.000000</td>\n",
       "      <td>78.000000</td>\n",
       "      <td>83.000000</td>\n",
       "      <td>80.000000</td>\n",
       "      <td>78.000000</td>\n",
       "      <td>76.000000</td>\n",
       "      <td>97.000000</td>\n",
       "    </tr>\n",
       "    <tr>\n",
       "      <th>1</th>\n",
       "      <td>79.663258</td>\n",
       "      <td>85.092741</td>\n",
       "      <td>83.944998</td>\n",
       "      <td>81.969647</td>\n",
       "      <td>87.313365</td>\n",
       "      <td>80.592041</td>\n",
       "      <td>81.46482</td>\n",
       "      <td>79.899736</td>\n",
       "      <td>81.198577</td>\n",
       "      <td>70.520026</td>\n",
       "      <td>...</td>\n",
       "      <td>78.924023</td>\n",
       "      <td>82.997214</td>\n",
       "      <td>76.561209</td>\n",
       "      <td>83.896852</td>\n",
       "      <td>84.330925</td>\n",
       "      <td>81.828778</td>\n",
       "      <td>78.876401</td>\n",
       "      <td>87.473926</td>\n",
       "      <td>84.802279</td>\n",
       "      <td>81.973965</td>\n",
       "    </tr>\n",
       "  </tbody>\n",
       "</table>\n",
       "<p>2 rows × 30 columns</p>\n",
       "</div>"
      ],
      "text/plain": [
       "          0          1          2          3          4          5         6   \\\n",
       "0  93.000000  72.000000  75.000000  93.000000  92.000000  67.000000  68.00000   \n",
       "1  79.663258  85.092741  83.944998  81.969647  87.313365  80.592041  81.46482   \n",
       "\n",
       "           7          8          9     ...             20         21  \\\n",
       "0  102.000000  87.000000  64.000000    ...      66.000000  75.000000   \n",
       "1   79.899736  81.198577  70.520026    ...      78.924023  82.997214   \n",
       "\n",
       "          22         23         24         25         26         27  \\\n",
       "0  71.000000  64.000000  78.000000  83.000000  80.000000  78.000000   \n",
       "1  76.561209  83.896852  84.330925  81.828778  78.876401  87.473926   \n",
       "\n",
       "          28         29  \n",
       "0  76.000000  97.000000  \n",
       "1  84.802279  81.973965  \n",
       "\n",
       "[2 rows x 30 columns]"
      ]
     },
     "metadata": {},
     "output_type": "display_data"
    }
   ],
   "source": [
    "# PREDICT WINS\n",
    "wins_regr = linear_model.LinearRegression()\n",
    "success_y = np.asarray(success_y)\n",
    "wins_regr.fit(full_twenty, success_y)\n",
    "print wins_regr.coef_\n",
    "\n",
    "test_success_y = np.asarray(success_y_orig[:30])\n",
    "\n",
    "actual = test_success_y.T\n",
    "predicted = wins_regr.predict(test_success_x).T\n",
    "sidebyside = np.vstack((actual, predicted))\n",
    "display(p.DataFrame(sidebyside))"
   ]
  },
  {
   "cell_type": "code",
   "execution_count": null,
   "metadata": {
    "collapsed": true
   },
   "outputs": [],
   "source": []
  }
 ],
 "metadata": {
  "anaconda-cloud": {},
  "kernelspec": {
   "display_name": "Python [conda root]",
   "language": "python",
   "name": "conda-root-py"
  },
  "language_info": {
   "codemirror_mode": {
    "name": "ipython",
    "version": 2
   },
   "file_extension": ".py",
   "mimetype": "text/x-python",
   "name": "python",
   "nbconvert_exporter": "python",
   "pygments_lexer": "ipython2",
   "version": "2.7.12"
  }
 },
 "nbformat": 4,
 "nbformat_minor": 1
}
